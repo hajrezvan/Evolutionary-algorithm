{
 "cells": [
  {
   "cell_type": "markdown",
   "id": "4e262310",
   "metadata": {},
   "source": [
    "### Import Libs"
   ]
  },
  {
   "cell_type": "code",
   "execution_count": 1,
   "id": "95d3f1324b0501e6",
   "metadata": {
    "jupyter": {
     "outputs_hidden": false
    }
   },
   "outputs": [],
   "source": [
    "from scipy import special as sc\n",
    "import matplotlib.pyplot as plt\n",
    "import numpy as np\n",
    "\n",
    "import random\n",
    "import itertools"
   ]
  },
  {
   "cell_type": "code",
   "execution_count": 2,
   "id": "e1d2784a-371b-4bd9-a3a8-ce441b23889e",
   "metadata": {},
   "outputs": [],
   "source": [
    "#Constants, experiment parameters\n",
    "NUM_QUEENS = 8\n",
    "POPULATION_SIZE = 10\n",
    "MIXING_NUMBER = 2\n",
    "MUTATION_RATE = 0.05"
   ]
  },
  {
   "cell_type": "markdown",
   "id": "9da22522",
   "metadata": {},
   "source": [
    "### Create Individual"
   ]
  },
  {
   "cell_type": "code",
   "execution_count": 3,
   "id": "de1142d0",
   "metadata": {},
   "outputs": [],
   "source": [
    "def create_individual():\n",
    "    # TODO: create a random chromosome\n",
    "    return [random.randint(1, 8) for _ in range(8)]"
   ]
  },
  {
   "cell_type": "markdown",
   "id": "4ce5eabe",
   "metadata": {},
   "source": [
    "### Generate Population"
   ]
  },
  {
   "cell_type": "code",
   "execution_count": 4,
   "id": "a66475735b552b41",
   "metadata": {
    "jupyter": {
     "outputs_hidden": false
    }
   },
   "outputs": [],
   "source": [
    "def generate_population(population_size:int = 20):\n",
    "    population = []\n",
    "\n",
    "    for _ in range(population_size):\n",
    "        new_individual = create_individual()\n",
    "        population.append(new_individual)\n",
    "    \n",
    "    return population"
   ]
  },
  {
   "cell_type": "markdown",
   "id": "0d944dab",
   "metadata": {},
   "source": [
    "### Parent Selection"
   ]
  },
  {
   "cell_type": "code",
   "execution_count": 5,
   "id": "261340cc4efeca3",
   "metadata": {
    "jupyter": {
     "outputs_hidden": false
    }
   },
   "outputs": [],
   "source": [
    "def parent_selection(population):\n",
    "    parents = []\n",
    "    \n",
    "    for ind in population:\n",
    "        #select parents with probability proportional to their fitness score\n",
    "        if random.randrange(int(sc.comb(NUM_QUEENS, 2)*2)) < fitness_score(ind):\n",
    "            parents.append(ind)\n",
    "    \n",
    "    return parents"
   ]
  },
  {
   "cell_type": "markdown",
   "id": "c6c4da1f",
   "metadata": {},
   "source": [
    "### Next Generation Selection"
   ]
  },
  {
   "cell_type": "code",
   "execution_count": 6,
   "id": "d22feb7e",
   "metadata": {},
   "outputs": [],
   "source": [
    "def next_generation_selection(children_population):\n",
    "    next_generation = []\n",
    "    #TODO: choose the next_generation\n",
    "    parents = parent_selection(population)\n",
    "\n",
    "    #recombination. Create new offsprings\n",
    "    offsprings = crossover(parents)\n",
    "\n",
    "    #mutation\n",
    "    offsprings = list(map(mutate, offsprings))\n",
    "\n",
    "    #introduce top-scoring individuals from previous generation and keep top fitness individuals\n",
    "    next_generation = offsprings\n",
    "\n",
    "    for ind in population:\n",
    "        next_generation.append(ind)\n",
    "\n",
    "    next_generation = sorted(next_generation, key=lambda ind: fitness_score(ind), reverse=True)[:POPULATION_SIZE]\n",
    "            \n",
    "    return next_generation"
   ]
  },
  {
   "cell_type": "markdown",
   "id": "f4380bb4",
   "metadata": {},
   "source": [
    "### Crossover"
   ]
  },
  {
   "cell_type": "code",
   "execution_count": 7,
   "id": "a140f7ad9542ffba",
   "metadata": {
    "jupyter": {
     "outputs_hidden": false
    }
   },
   "outputs": [],
   "source": [
    "def crossover(parents):\n",
    "    \n",
    "    #random indexes to to cross states with\n",
    "    cross_points = random.sample(range(NUM_QUEENS), MIXING_NUMBER - 1)\n",
    "    offsprings = []\n",
    "    \n",
    "    #all permutations of parents\n",
    "    permutations = list(itertools.permutations(parents, MIXING_NUMBER))\n",
    "    \n",
    "    for perm in permutations:\n",
    "        offspring = []\n",
    "        \n",
    "        #track starting index of sublist\n",
    "        start_pt = 0\n",
    "        \n",
    "        for parent_idx, cross_point in enumerate(cross_points): #doesn't account for last parent\n",
    "            \n",
    "            #sublist of parent to be crossed\n",
    "            parent_part = perm[parent_idx][start_pt:cross_point]\n",
    "            offspring.append(parent_part)\n",
    "            \n",
    "            #update index pointer\n",
    "            start_pt = cross_point\n",
    "            \n",
    "        #last parent\n",
    "        last_parent = perm[-1]\n",
    "        parent_part = last_parent[cross_point:]\n",
    "        offspring.append(parent_part)\n",
    "        \n",
    "        #flatten the list since append works kinda differently\n",
    "        offsprings.append(list(itertools.chain(*offspring)))\n",
    "    \n",
    "    return offsprings"
   ]
  },
  {
   "cell_type": "markdown",
   "id": "0bdde8d6",
   "metadata": {},
   "source": [
    "### Mutation"
   ]
  },
  {
   "cell_type": "code",
   "execution_count": 8,
   "id": "7f3f19b5790d8e8e",
   "metadata": {
    "jupyter": {
     "outputs_hidden": false
    }
   },
   "outputs": [],
   "source": [
    "def mutate(seq):\n",
    "    for row in range(len(seq)):\n",
    "        if random.random() < MUTATION_RATE:\n",
    "            seq[row] = random.randrange(NUM_QUEENS)\n",
    "    \n",
    "    return seq"
   ]
  },
  {
   "cell_type": "markdown",
   "id": "833ea75e",
   "metadata": {},
   "source": [
    "### Score Function"
   ]
  },
  {
   "cell_type": "code",
   "execution_count": 9,
   "id": "15c492631c51bd96",
   "metadata": {
    "jupyter": {
     "outputs_hidden": false
    }
   },
   "outputs": [],
   "source": [
    "def fitness_score(seq):\n",
    "    score = 0\n",
    "    \n",
    "    for row in range(NUM_QUEENS):\n",
    "        col = seq[row]\n",
    "        \n",
    "        for other_row in range(NUM_QUEENS):\n",
    "            \n",
    "            #queens cannot pair with itself\n",
    "            if other_row == row:\n",
    "                continue\n",
    "            if seq[other_row] == col:\n",
    "                continue\n",
    "            if other_row + seq[other_row] == row + col:\n",
    "                continue\n",
    "            if other_row - seq[other_row] == row - col:\n",
    "                continue\n",
    "            #score++ if every pair of queens are non-attacking.\n",
    "            score += 1\n",
    "    \n",
    "    #divide by 2 as pairs of queens are commutative\n",
    "    return score/2"
   ]
  },
  {
   "cell_type": "markdown",
   "id": "9a4ea63e",
   "metadata": {},
   "source": [
    "## Calculate Population Fitness"
   ]
  },
  {
   "cell_type": "code",
   "execution_count": 10,
   "id": "ae632959",
   "metadata": {},
   "outputs": [],
   "source": [
    "def population_fitness(population):\n",
    "    population_fitness = 0\n",
    "    individuals_fitnesses:dict = {}\n",
    "    for chromosome in population:\n",
    "        fitness_sc = fitness_score(chromosome)\n",
    "        population_fitness += fitness_sc\n",
    "        individuals_fitnesses[tuple(chromosome)] = fitness_sc\n",
    "    return individuals_fitnesses ,population_fitness"
   ]
  },
  {
   "cell_type": "markdown",
   "id": "99b5facc",
   "metadata": {},
   "source": [
    "### Termination Condition"
   ]
  },
  {
   "cell_type": "code",
   "execution_count": 11,
   "id": "5f77977c",
   "metadata": {},
   "outputs": [],
   "source": [
    "def check_end(population, to_print=False) -> bool:\n",
    "    #TODO: check end of algorithm\n",
    "    for ind in population:\n",
    "        score = fitness_score(ind)\n",
    "        if to_print:\n",
    "            print(f'{ind}. Score: {score}')\n",
    "        if score == sc.comb(NUM_QUEENS, 2):\n",
    "            print('Solution found 😁')\n",
    "            print(f'{ind}. Score: {score}')\n",
    "            return True\n",
    "    \n",
    "    if to_print:\n",
    "        print('Solution not found')\n",
    "    return False"
   ]
  },
  {
   "cell_type": "markdown",
   "id": "b223c1dc",
   "metadata": {},
   "source": [
    "### Run Your Algorithms"
   ]
  },
  {
   "cell_type": "code",
   "execution_count": 12,
   "id": "9e13e9bd-3489-4244-bbb9-a156efbce876",
   "metadata": {},
   "outputs": [],
   "source": [
    "def normalizer(l):\n",
    "    for i in l:\n",
    "        if type(i)==int:\n",
    "            print(i)\n",
    "            l.remove(i)"
   ]
  },
  {
   "cell_type": "code",
   "execution_count": 14,
   "id": "392ff74d8fb7ab3e",
   "metadata": {
    "jupyter": {
     "outputs_hidden": false
    }
   },
   "outputs": [
    {
     "name": "stdout",
     "output_type": "stream",
     "text": [
      "2\n",
      "7\n",
      "5\n",
      "2\n",
      "0\n",
      "2\n",
      "3\n",
      "Solution found 😁\n",
      "[1, 4, 6, 0, 2, 7, 5, 3]. Score: 28.0\n"
     ]
    }
   ],
   "source": [
    "# The genetic algorithm\n",
    "generation = 0\n",
    "solution_is_found = False\n",
    "fitness = []\n",
    "\n",
    "population = generate_population()\n",
    "population , pf = population_fitness(population)\n",
    "\n",
    "while not check_end(population):\n",
    "    # TODO: this is a default setup which you maybe need to change.\n",
    "    population = parent_selection(population)\n",
    "    population = crossover(population)\n",
    "    population = mutate(population)\n",
    "    normalizer(population)\n",
    "    individuals_fitnesses , pf = population_fitness(population)\n",
    "    population = next_generation_selection(population)\n",
    "    \n",
    "    generation += 1\n",
    "    if(len(population)!=0):\n",
    "        avg_fit = pf / len(population)\n",
    "        fitness.append(avg_fit)\n"
   ]
  },
  {
   "cell_type": "markdown",
   "id": "174334b7",
   "metadata": {},
   "source": [
    "### See Your Progress Over Generations"
   ]
  },
  {
   "cell_type": "code",
   "execution_count": 15,
   "id": "62a19a5f372d7885",
   "metadata": {
    "jupyter": {
     "outputs_hidden": false
    }
   },
   "outputs": [
    {
     "data": {
      "image/png": "[encoded data removed]",
      "text/plain": [
       "<Figure size 640x480 with 1 Axes>"
      ]
     },
     "metadata": {},
     "output_type": "display_data"
    }
   ],
   "source": [
    "plt.bar(range(generation), fitness, color='skyblue')\n",
    "plt.xlabel('Generation', fontsize=20)\n",
    "plt.ylabel('Average Fitness', fontsize=20)\n",
    "plt.title('Fitness over Generations', fontsize=20)\n",
    "plt.show()"
   ]
  }
 ],
 "metadata": {
  "kernelspec": {
   "display_name": "Python 3 (ipykernel)",
   "language": "python",
   "name": "python3"
  },
  "language_info": {
   "codemirror_mode": {
    "name": "ipython",
    "version": 3
   },
   "file_extension": ".py",
   "mimetype": "text/x-python",
   "name": "python",
   "nbconvert_exporter": "python",
   "pygments_lexer": "ipython3",
   "version": "3.12.3"
  }
 },
 "nbformat": 4,
 "nbformat_minor": 5
}
